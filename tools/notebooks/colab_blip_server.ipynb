{
 "cells": [
  {
   "cell_type": "markdown",
   "metadata": {},
   "source": [
    "# Colab BLIP Inference Server + Tunnel\n",
    "Run a BLIP caption server on Colab with a public HTTPS URL for testing the Rust service."
   ]
  },
  {
   "cell_type": "code",
   "execution_count": null,
   "metadata": {},
   "outputs": [],
   "source": [
    "# Switch runtime to GPU: Runtime → Change runtime type → GPU\n",
    "# Install dependencies\n",
    "!pip -q install fastapi uvicorn transformers pillow accelerate torch cloudflared > /dev/null"
   ]
  },
  {
   "cell_type": "code",
   "execution_count": null,
   "metadata": {},
   "outputs": [],
   "source": [
    "# Start the BLIP server (uses base model by default).\n",
    "# To use a fine-tuned model, upload it and set MODEL_DIR accordingly.\n",
    "import os, subprocess\n",
    "os.environ['MODEL_DIR'] = os.getenv('MODEL_DIR', 'Salesforce/blip-image-captioning-base')\n",
    "proc = subprocess.Popen(['python','-m','uvicorn','tools.blip_infer_server.server:app','--host','0.0.0.0','--port','8001'],\n",
    "                        stdout=subprocess.DEVNULL, stderr=subprocess.DEVNULL)\n",
    "print('BLIP server PID', proc.pid)\n"
   ]
  },
  {
   "cell_type": "code",
   "execution_count": null,
   "metadata": {},
   "outputs": [],
   "source": [
    "# Start Cloudflare quick tunnel and print the public URL\n",
    "import re, time, subprocess\n",
    "t = subprocess.Popen(['cloudflared','tunnel','--no-autoupdate','--url','http://127.0.0.1:8001'],\n",
    "                    stdout=subprocess.PIPE, stderr=subprocess.STDOUT, text=True)\n",
    "public_url = None\n",
    "for _ in range(180):\n",
    "    line = t.stdout.readline().strip()\n",
    "    if not line:\n",
    "        time.sleep(1);\n",
    "        continue\n",
    "    m = re.search(r'https://[\\w.-]+\\.trycloudflare\\.com', line)\n",
    "    if m:\n",
    "        public_url = m.group(0)\n",
    "        break\n",
    "print('PUBLIC_URL =', public_url)\n",
    "print('Keep this cell running to keep the tunnel alive.')\n"
   ]
  }
 ],
 "metadata": {
  "kernelspec": {"display_name": "Python 3", "language": "python", "name": "python3"},
  "language_info": {"name": "python"},
  "colab": {"provenance": []}
 },
 "nbformat": 4,
 "nbformat_minor": 5
}

