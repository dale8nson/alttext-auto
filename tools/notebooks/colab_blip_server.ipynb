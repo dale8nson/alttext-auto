{
 "cells": [
  {"cell_type": "markdown", "metadata": {}, "source": [
    "# Colab BLIP Inference Server + Auto‑Register\n",
    "Run BLIP on Colab, expose via Cloudflare Quick Tunnel, and automatically register with the Rust captioner."
  ]},
  {"cell_type": "code", "execution_count": null, "metadata": {}, "outputs": [], "source": [
    "# Switch runtime to GPU: Runtime → Change runtime type → GPU\n",
    "# Install dependencies\n",
    "!pip -q install fastapi uvicorn transformers pillow accelerate torch cloudflared requests > /dev/null"
  ]},
  {"cell_type": "code", "execution_count": null, "metadata": {}, "outputs": [], "source": [
    "# Start the BLIP server (uses base model by default).\n",
    "# To use a fine-tuned model, upload it and set MODEL_DIR accordingly.\n",
    "import os, subprocess\n",
    "os.environ['MODEL_DIR'] = os.getenv('MODEL_DIR', 'Salesforce/blip-image-captioning-base')\n",
    "proc = subprocess.Popen(['python','-m','uvicorn','tools.blip_infer_server.server:app','--host','0.0.0.0','--port','8001'],\n",
    "                        stdout=subprocess.DEVNULL, stderr=subprocess.DEVNULL)\n",
    "print('BLIP server PID', proc.pid)\n"
  ]},
  {"cell_type": "code", "execution_count": null, "metadata": {}, "outputs": [], "source": [
    "# Start Cloudflare quick tunnel and capture the public URL\n",
    "import re, time, subprocess\n",
    "t = subprocess.Popen(['cloudflared','tunnel','--no-autoupdate','--url','http://127.0.0.1:8001'],\n",
    "                    stdout=subprocess.PIPE, stderr=subprocess.STDOUT, text=True)\n",
    "public_url = None\n",
    "for _ in range(180):\n",
    "    line = t.stdout.readline().strip()\n",
    "    if not line:\n",
    "        time.sleep(1);\n",
    "        continue\n",
    "    m = re.search(r'https://[\\w.-]+\\.trycloudflare\\.com', line)\n",
    "    if m:\n",
    "        public_url = m.group(0)\n",
    "        break\n",
    "print('PUBLIC_URL =', public_url)\n",
    "print('Keep this cell running (or next cell) to keep the tunnel alive.')\n"
  ]},
  {"cell_type": "code", "execution_count": null, "metadata": {}, "outputs": [], "source": [
    "# Auto‑register with the captioner and refresh periodically\n",
    "# Set these in the notebook before running or inline here:\n",
    "# %env CAPTIONER_REGISTRY_URL=https://alttext-auto.fly.dev\n",
    "# %env CAPTIONER_REGISTRY_TOKEN=YOUR_SECRET   # optional but recommended\n",
    "# %env PROVIDER=colab\n",
    "import os, time, requests\n",
    "reg = os.getenv('CAPTIONER_REGISTRY_URL', '').rstrip('/')\n",
    "tok = os.getenv('CAPTIONER_REGISTRY_TOKEN')\n",
    "provider = os.getenv('PROVIDER','colab')\n",
    "if not reg or not public_url:\n",
    "    print('Set CAPTIONER_REGISTRY_URL and ensure tunnel started (public_url present).')\n",
    "else:\n",
    "    headers = {'x-registry-token': tok} if tok else {}\n",
    "    def register(ttl=900):\n",
    "        url = f\"{reg}/v1/register\"\n",
    "        body = {'endpoint': public_url, 'provider': provider, 'ttl_secs': ttl}\n",
    "        r = requests.post(url, json=body, headers=headers, timeout=10)\n",
    "        print('register', r.status_code, public_url)\n",
    "    register()\n",
    "    while True:\n",
    "        time.sleep(600)\n",
    "        try:\n",
    "            register()\n",
    "        except Exception as e:\n",
    "            print('register failed:', e)\n"
  ]}
 ],
 "metadata": {"kernelspec": {"display_name": "Python 3", "language": "python", "name": "python3"}, "language_info": {"name": "python"}, "colab": {"provenance": []}},
 "nbformat": 4, "nbformat_minor": 5
}
